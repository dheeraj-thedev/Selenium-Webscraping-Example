{
 "cells": [
  {
   "cell_type": "code",
   "execution_count": 2,
   "metadata": {},
   "outputs": [],
   "source": [
    "# Import module\n",
    "from selenium import webdriver\n",
    "\n",
    "# Download cromedriver zip as per yur version of chrome and change the path accordingly\n",
    "driver = webdriver.Chrome(\"C:\\\\Users\\\\Rishabh\\\\Documents\\\\Python Scripts\\\\chromedriver_win32\\\\chromedriver.exe\")\n",
    "\n",
    "# Navigate to the application home page\n",
    "driver.get(\"http://www.google.com\")\n",
    "\n",
    "# get the search textbox\n",
    "search_field = driver.find_element_by_name(\"q\")\n",
    "search_field.clear()\n",
    "\n",
    "# enter search keyword and submit\n",
    "search_field.send_keys(\"Python\")\n",
    "#search_field.submit()\n",
    "\n",
    "#driver.close()"
   ]
  },
  {
   "cell_type": "code",
   "execution_count": null,
   "metadata": {},
   "outputs": [],
   "source": [
    "from selenium import webdriver \n",
    "# For using sleep function because selenium \n",
    "# works only when the all the elements of the \n",
    "# page is loaded. \n",
    "import time \n",
    "# webdriver path set \n",
    "browser = webdriver.Chrome(\"C:\\\\Users\\\\Rishabh\\\\Documents\\\\Python Scripts\\\\chromedriver_win32\\\\chromedriver.exe\")\n",
    "  \n",
    "# To maximize the browser window \n",
    "browser.maximize_window() \n",
    "  \n",
    "# zomato link set \n",
    "browser.get('https://www.amazon.in/ap/signin?_encoding=UTF8&ignoreAuthState=1&openid.assoc_handle=inflex&openid.claimed_id=http%3A%2F%2Fspecs.openid.net%2Fauth%2F2.0%2Fidentifier_select&openid.identity=http%3A%2F%2Fspecs.openid.net%2Fauth%2F2.0%2Fidentifier_select&openid.mode=checkid_setup&openid.ns=http%3A%2F%2Fspecs.openid.net%2Fauth%2F2.0&openid.ns.pape=http%3A%2F%2Fspecs.openid.net%2Fextensions%2Fpape%2F1.0&openid.pape.max_auth_age=0&openid.return_to=https%3A%2F%2Fwww.amazon.in%2F%3Fref_%3Dnav_signin&switch_account=') \n",
    "  \n",
    "time.sleep(3) \n",
    "# Enter your user name and password here. \n",
    "username = \"\"\n",
    "password = \"\"\n",
    "    \n",
    "# username send \n",
    "a = browser.find_element_by_name(\"email\") \n",
    "a.send_keys(username) \n",
    "browser.find_element_by_id(\"continue\").click()\n",
    "# password send \n",
    "b = browser.find_element_by_name(\"password\") \n",
    "b.send_keys(password) \n",
    "  \n",
    "# submit button clicked \n",
    "browser.find_element_by_id(\"signInSubmit\").click() \n",
    "\n",
    "s = browser.find_element_by_id('twotabsearchtextbox')\n",
    "s.send_keys('samsung s10')\n",
    "s.submit()\n",
    "\n",
    "print('Login Successful')\n",
    "browser.close()"
   ]
  },
  {
   "cell_type": "code",
   "execution_count": 2,
   "metadata": {},
   "outputs": [
    {
     "name": "stderr",
     "output_type": "stream",
     "text": [
      "C:\\Users\\Rishabh\\Anaconda3\\lib\\site-packages\\bs4\\__init__.py:181: UserWarning: No parser was explicitly specified, so I'm using the best available HTML parser for this system (\"lxml\"). This usually isn't a problem, but if you run this code on another system, or in a different virtual environment, it may use a different parser and behave differently.\n",
      "\n",
      "The code that caused this warning is on line 193 of the file C:\\Users\\Rishabh\\Anaconda3\\lib\\runpy.py. To get rid of this warning, change code that looks like this:\n",
      "\n",
      " BeautifulSoup(YOUR_MARKUP})\n",
      "\n",
      "to this:\n",
      "\n",
      " BeautifulSoup(YOUR_MARKUP, \"lxml\")\n",
      "\n",
      "  markup_type=markup_type))\n"
     ]
    },
    {
     "name": "stdout",
     "output_type": "stream",
     "text": [
      "Normal Fare:  60\n",
      "Concessional Fare:  50\n",
      "Timings:  66\n",
      "Stations:  32\n",
      "Interchange:  1\n"
     ]
    }
   ],
   "source": [
    "import re\n",
    "from robobrowser import RoboBrowser\n",
    "\n",
    "from bs4 import BeautifulSoup as bs\n",
    "\n",
    "def getData(from_station, to_station):\n",
    "    br=RoboBrowser(history=True)\n",
    "    br.open(\"http://www.delhimetrorail.com/metro-fares.aspx\")\n",
    "    form=br.get_form()\n",
    "    form['ctl00$MainContent$ddlFrom'].value=from_station\n",
    "    form['ctl00$MainContent$ddlTo'].value=to_station\n",
    "    br.submit_form(form,submit=form['ctl00$MainContent$btnShowFare'])\n",
    "    src=str(br.parsed())\n",
    "    return src\n",
    "\n",
    "if __name__ == '__main__':\n",
    "\n",
    "    st=getData(\"HUDA CITY CENTRE\",\"ANAND VIHAR\")\n",
    "    nf= st.index('class=\"fare_new_nor_right\"')\n",
    "    print(\"Normal Fare: \",st[nf+27:nf+29])\n",
    "\n",
    "    cf=st.index('class=\"fare_new_right_right\"')\n",
    "    print(\"Concessional Fare: \", st[cf + 29:cf + 31])\n",
    "\n",
    "    tm = st.index('Timing -')\n",
    "    tm1=st[tm + 9:tm + 13]\n",
    "    for s in tm1.split():\n",
    "        if s.isdigit():\n",
    "            print(\"Timings: \",s)\n",
    "\n",
    "\n",
    "    stn = st.index('Stations -')\n",
    "    print(\"Stations: \", st[stn + 11:stn + 13])\n",
    "\n",
    "    inter = st.index('Interchange -')\n",
    "    print(\"Interchange: \", st[inter + 14:inter + 15])"
   ]
  }
 ],
 "metadata": {
  "kernelspec": {
   "display_name": "Python 3",
   "language": "python",
   "name": "python3"
  },
  "language_info": {
   "codemirror_mode": {
    "name": "ipython",
    "version": 3
   },
   "file_extension": ".py",
   "mimetype": "text/x-python",
   "name": "python",
   "nbconvert_exporter": "python",
   "pygments_lexer": "ipython3",
   "version": "3.6.5"
  }
 },
 "nbformat": 4,
 "nbformat_minor": 2
}
